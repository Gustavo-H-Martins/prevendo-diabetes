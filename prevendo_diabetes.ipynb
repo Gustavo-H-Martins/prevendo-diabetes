{
 "cells": [
  {
   "attachments": {},
   "cell_type": "markdown",
   "metadata": {},
   "source": [
    "Para este notebook rodar precisa intelar as libs:\n",
    "```Python\n",
    "pip install pandas==2.0.3\n",
    "pip install matplotlib==3.7.2\n",
    "pip install scikit-learn==1.3.0\n",
    "pip install imbalanced-learn==0.11.0\n",
    "pip install jupyterlab==4.0.3\n",
    "pip install ipywidgets==8.0.7\n",
    "\n",
    "```"
   ]
  },
  {
   "cell_type": "code",
   "execution_count": 1,
   "metadata": {},
   "outputs": [],
   "source": [
    "# Importando as bibliotecas\n",
    "import pandas as pd\n",
    "import matplotlib.pyplot as plt\n",
    "from sklearn.model_selection import train_test_split\n",
    "from sklearn.linear_model import LogisticRegression\n",
    "from sklearn.metrics import accuracy_score, precision_score, recall_score, f1_score\n",
    "from imblearn.over_sampling import SMOTE\n",
    "import ipywidgets as widgets\n",
    "import os\n"
   ]
  },
  {
   "cell_type": "code",
   "execution_count": 2,
   "metadata": {},
   "outputs": [
    {
     "data": {
      "text/html": [
       "<div>\n",
       "<style scoped>\n",
       "    .dataframe tbody tr th:only-of-type {\n",
       "        vertical-align: middle;\n",
       "    }\n",
       "\n",
       "    .dataframe tbody tr th {\n",
       "        vertical-align: top;\n",
       "    }\n",
       "\n",
       "    .dataframe thead th {\n",
       "        text-align: right;\n",
       "    }\n",
       "</style>\n",
       "<table border=\"1\" class=\"dataframe\">\n",
       "  <thead>\n",
       "    <tr style=\"text-align: right;\">\n",
       "      <th></th>\n",
       "      <th>Pregnancies</th>\n",
       "      <th>Glucose</th>\n",
       "      <th>BloodPressure</th>\n",
       "      <th>SkinThickness</th>\n",
       "      <th>Insulin</th>\n",
       "      <th>BMI</th>\n",
       "      <th>DiabetesPedigreeFunction</th>\n",
       "      <th>Age</th>\n",
       "      <th>Outcome</th>\n",
       "    </tr>\n",
       "  </thead>\n",
       "  <tbody>\n",
       "    <tr>\n",
       "      <th>0</th>\n",
       "      <td>6</td>\n",
       "      <td>148</td>\n",
       "      <td>72</td>\n",
       "      <td>35</td>\n",
       "      <td>0</td>\n",
       "      <td>33.6</td>\n",
       "      <td>0.627</td>\n",
       "      <td>50</td>\n",
       "      <td>1</td>\n",
       "    </tr>\n",
       "  </tbody>\n",
       "</table>\n",
       "</div>"
      ],
      "text/plain": [
       "   Pregnancies  Glucose  BloodPressure  SkinThickness  Insulin   BMI  \\\n",
       "0            6      148             72             35        0  33.6   \n",
       "\n",
       "   DiabetesPedigreeFunction  Age  Outcome  \n",
       "0                     0.627   50        1  "
      ]
     },
     "execution_count": 2,
     "metadata": {},
     "output_type": "execute_result"
    }
   ],
   "source": [
    "# Pegando o caminho base e caminho do arquivo\n",
    "current_dir = os.getcwd()\n",
    "path_file = os.path.join(current_dir, r\"diabetes.csv\")\n",
    "\n",
    "# Lendo o arquivo csv com os dados\n",
    "dados = pd.read_csv(path_file)\n",
    "\n",
    "# dropando dados nulos se existentes\n",
    "dados.dropna(inplace=True)\n",
    "\n",
    "dados.head(1)"
   ]
  },
  {
   "cell_type": "code",
   "execution_count": 3,
   "metadata": {},
   "outputs": [],
   "source": [
    "# Separando as variáveis independentes e dependentes\n",
    "X = dados.drop(\"Outcome\", axis=1)\n",
    "y = dados[\"Outcome\"]\n"
   ]
  },
  {
   "cell_type": "code",
   "execution_count": 4,
   "metadata": {},
   "outputs": [],
   "source": [
    "# Fazendo a divisão dos dados em treino e teste\n",
    "X_train, X_test, y_train, y_test = train_test_split(X, y, test_size=0.2, random_state=42)\n"
   ]
  },
  {
   "cell_type": "code",
   "execution_count": 5,
   "metadata": {},
   "outputs": [
    {
     "name": "stdout",
     "output_type": "stream",
     "text": [
      "Distribuição das classes antes do oversampling:\n",
      "Outcome\n",
      "0    401\n",
      "1    213\n",
      "Name: count, dtype: int64\n",
      "Distribuição das classes depois do oversampling:\n",
      "Outcome\n",
      "0    1000\n",
      "1    1000\n",
      "Name: count, dtype: int64\n"
     ]
    }
   ],
   "source": [
    "# Fazendo o balanceamento dos dados de treino\n",
    "sm = SMOTE(random_state=42, sampling_strategy={0: 1000, 1: 1000})\n",
    "X_train_res, y_train_res = sm.fit_resample(X_train, y_train)\n",
    "\n",
    "# Mostrando a distribuição das classes antes e depois do oversampling\n",
    "print(\"Distribuição das classes antes do oversampling:\")\n",
    "print(y_train.value_counts())\n",
    "print(\"Distribuição das classes depois do oversampling:\")\n",
    "print(y_train_res.value_counts())"
   ]
  },
  {
   "cell_type": "code",
   "execution_count": 6,
   "metadata": {},
   "outputs": [
    {
     "data": {
      "text/html": [
       "<style>#sk-container-id-1 {color: black;}#sk-container-id-1 pre{padding: 0;}#sk-container-id-1 div.sk-toggleable {background-color: white;}#sk-container-id-1 label.sk-toggleable__label {cursor: pointer;display: block;width: 100%;margin-bottom: 0;padding: 0.3em;box-sizing: border-box;text-align: center;}#sk-container-id-1 label.sk-toggleable__label-arrow:before {content: \"▸\";float: left;margin-right: 0.25em;color: #696969;}#sk-container-id-1 label.sk-toggleable__label-arrow:hover:before {color: black;}#sk-container-id-1 div.sk-estimator:hover label.sk-toggleable__label-arrow:before {color: black;}#sk-container-id-1 div.sk-toggleable__content {max-height: 0;max-width: 0;overflow: hidden;text-align: left;background-color: #f0f8ff;}#sk-container-id-1 div.sk-toggleable__content pre {margin: 0.2em;color: black;border-radius: 0.25em;background-color: #f0f8ff;}#sk-container-id-1 input.sk-toggleable__control:checked~div.sk-toggleable__content {max-height: 200px;max-width: 100%;overflow: auto;}#sk-container-id-1 input.sk-toggleable__control:checked~label.sk-toggleable__label-arrow:before {content: \"▾\";}#sk-container-id-1 div.sk-estimator input.sk-toggleable__control:checked~label.sk-toggleable__label {background-color: #d4ebff;}#sk-container-id-1 div.sk-label input.sk-toggleable__control:checked~label.sk-toggleable__label {background-color: #d4ebff;}#sk-container-id-1 input.sk-hidden--visually {border: 0;clip: rect(1px 1px 1px 1px);clip: rect(1px, 1px, 1px, 1px);height: 1px;margin: -1px;overflow: hidden;padding: 0;position: absolute;width: 1px;}#sk-container-id-1 div.sk-estimator {font-family: monospace;background-color: #f0f8ff;border: 1px dotted black;border-radius: 0.25em;box-sizing: border-box;margin-bottom: 0.5em;}#sk-container-id-1 div.sk-estimator:hover {background-color: #d4ebff;}#sk-container-id-1 div.sk-parallel-item::after {content: \"\";width: 100%;border-bottom: 1px solid gray;flex-grow: 1;}#sk-container-id-1 div.sk-label:hover label.sk-toggleable__label {background-color: #d4ebff;}#sk-container-id-1 div.sk-serial::before {content: \"\";position: absolute;border-left: 1px solid gray;box-sizing: border-box;top: 0;bottom: 0;left: 50%;z-index: 0;}#sk-container-id-1 div.sk-serial {display: flex;flex-direction: column;align-items: center;background-color: white;padding-right: 0.2em;padding-left: 0.2em;position: relative;}#sk-container-id-1 div.sk-item {position: relative;z-index: 1;}#sk-container-id-1 div.sk-parallel {display: flex;align-items: stretch;justify-content: center;background-color: white;position: relative;}#sk-container-id-1 div.sk-item::before, #sk-container-id-1 div.sk-parallel-item::before {content: \"\";position: absolute;border-left: 1px solid gray;box-sizing: border-box;top: 0;bottom: 0;left: 50%;z-index: -1;}#sk-container-id-1 div.sk-parallel-item {display: flex;flex-direction: column;z-index: 1;position: relative;background-color: white;}#sk-container-id-1 div.sk-parallel-item:first-child::after {align-self: flex-end;width: 50%;}#sk-container-id-1 div.sk-parallel-item:last-child::after {align-self: flex-start;width: 50%;}#sk-container-id-1 div.sk-parallel-item:only-child::after {width: 0;}#sk-container-id-1 div.sk-dashed-wrapped {border: 1px dashed gray;margin: 0 0.4em 0.5em 0.4em;box-sizing: border-box;padding-bottom: 0.4em;background-color: white;}#sk-container-id-1 div.sk-label label {font-family: monospace;font-weight: bold;display: inline-block;line-height: 1.2em;}#sk-container-id-1 div.sk-label-container {text-align: center;}#sk-container-id-1 div.sk-container {/* jupyter's `normalize.less` sets `[hidden] { display: none; }` but bootstrap.min.css set `[hidden] { display: none !important; }` so we also need the `!important` here to be able to override the default hidden behavior on the sphinx rendered scikit-learn.org. See: https://github.com/scikit-learn/scikit-learn/issues/21755 */display: inline-block !important;position: relative;}#sk-container-id-1 div.sk-text-repr-fallback {display: none;}</style><div id=\"sk-container-id-1\" class=\"sk-top-container\"><div class=\"sk-text-repr-fallback\"><pre>LogisticRegression(max_iter=1000)</pre><b>In a Jupyter environment, please rerun this cell to show the HTML representation or trust the notebook. <br />On GitHub, the HTML representation is unable to render, please try loading this page with nbviewer.org.</b></div><div class=\"sk-container\" hidden><div class=\"sk-item\"><div class=\"sk-estimator sk-toggleable\"><input class=\"sk-toggleable__control sk-hidden--visually\" id=\"sk-estimator-id-1\" type=\"checkbox\" checked><label for=\"sk-estimator-id-1\" class=\"sk-toggleable__label sk-toggleable__label-arrow\">LogisticRegression</label><div class=\"sk-toggleable__content\"><pre>LogisticRegression(max_iter=1000)</pre></div></div></div></div></div>"
      ],
      "text/plain": [
       "LogisticRegression(max_iter=1000)"
      ]
     },
     "execution_count": 6,
     "metadata": {},
     "output_type": "execute_result"
    }
   ],
   "source": [
    "# Treinando um modelo de regressão logística\n",
    "model = LogisticRegression(max_iter=1000)\n",
    "model.fit(X_train_res.values, y_train_res.values)\n"
   ]
  },
  {
   "cell_type": "code",
   "execution_count": 7,
   "metadata": {},
   "outputs": [
    {
     "name": "stdout",
     "output_type": "stream",
     "text": [
      "Acurácia: 0.69\n",
      "Precisão: 0.56\n",
      "Recall: 0.73\n",
      "F1-score: 0.63\n"
     ]
    },
    {
     "name": "stderr",
     "output_type": "stream",
     "text": [
      "C:\\Users\\gusta\\OneDrive\\Documentos\\GitHub\\prevendo-diabetes\\.venv\\lib\\site-packages\\sklearn\\base.py:457: UserWarning: X has feature names, but LogisticRegression was fitted without feature names\n",
      "  warnings.warn(\n"
     ]
    }
   ],
   "source": [
    "# Fazendo a previsão com os dados de teste\n",
    "y_pred = model.predict(X_test)\n",
    "\n",
    "# Calculando as métricas de avaliação do modelo\n",
    "acc = accuracy_score(y_test, y_pred)\n",
    "prec = precision_score(y_test, y_pred)\n",
    "rec = recall_score(y_test, y_pred)\n",
    "f1 = f1_score(y_test, y_pred)\n",
    "\n",
    "# Mostrando as métricas na tela\n",
    "print(f\"Acurácia: {acc:.2f}\")\n",
    "print(f\"Precisão: {prec:.2f}\")\n",
    "print(f\"Recall: {rec:.2f}\")\n",
    "print(f\"F1-score: {f1:.2f}\")\n"
   ]
  },
  {
   "cell_type": "code",
   "execution_count": 8,
   "metadata": {},
   "outputs": [
    {
     "data": {
      "image/png": "[encoded data removed]",
      "text/plain": [
       "<Figure size 640x480 with 1 Axes>"
      ]
     },
     "metadata": {},
     "output_type": "display_data"
    }
   ],
   "source": [
    "# Criando um gráfico de barras com as métricas do modelo\n",
    "fig, ax = plt.subplots()\n",
    "ax.bar([\"Acurácia\", \"Precisão\", \"Recall\", \"F1-score\"], [acc, prec, rec, f1])\n",
    "ax.set_ylim(0, 1)\n",
    "\n",
    "# Adicionando o percentual em cada extremidade das barras\n",
    "# Criando uma lista de strings com o formato \"xx%\"\n",
    "labels = [f\"{v*100:.0f}%\" for v in [acc, prec, rec, f1]] \n",
    "# Rotulando as barras com os valores\n",
    "ax.bar_label(ax.containers[0], labels=labels, label_type=\"edge\") \n",
    "\n",
    "plt.show()\n"
   ]
  },
  {
   "cell_type": "code",
   "execution_count": 9,
   "metadata": {},
   "outputs": [
    {
     "data": {
      "application/vnd.jupyter.widget-view+json": {
       "model_id": "da6f502fdc0c4735a8763610633f773c",
       "version_major": 2,
       "version_minor": 0
      },
      "text/plain": [
       "VBox(children=(Text(value='', description='Digite seu nome:', placeholder='Nome da paciente'), Button(descript…"
      ]
     },
     "execution_count": 9,
     "metadata": {},
     "output_type": "execute_result"
    }
   ],
   "source": [
    "# Importando o módulo de widgets\n",
    "import ipywidgets as widgets\n",
    "\n",
    "# Criando um campo de texto para o nome do usuário\n",
    "nome = widgets.Text(\n",
    "    value='',\n",
    "    placeholder='Nome da paciente',\n",
    "    description='Digite seu nome:',\n",
    "    disabled=False\n",
    ")\n",
    "\n",
    "# Criando um botão para enviar o nome\n",
    "botao_nome = widgets.Button(\n",
    "    description='Enviar',\n",
    "    disabled=False,\n",
    "    button_style='', # 'success', 'info', 'warning', 'danger' or ''\n",
    "    tooltip='Enviar',\n",
    "    icon='check' # (FontAwesome names without the `fa-` prefix)\n",
    ")\n",
    "\n",
    "# Criando uma função para mostrar o nome na tela quando o botão for clicado\n",
    "def on_button_clicked(b):\n",
    "    print(f\"Olá {nome.value}, seja bem-vindo(a) ao aplicativo de previsão de Diabetes!\")\n",
    "\n",
    "# Associando a função ao evento de clique do botão\n",
    "botao_nome.on_click(on_button_clicked)\n",
    "\n",
    "# Mostrando o campo de texto e o botão na tela\n",
    "widgets.VBox([nome, botao_nome])\n"
   ]
  },
  {
   "cell_type": "code",
   "execution_count": 10,
   "metadata": {
    "scrolled": true
   },
   "outputs": [
    {
     "data": {
      "application/vnd.jupyter.widget-view+json": {
       "model_id": "eef636b907894df39f324f8a1f56202c",
       "version_major": 2,
       "version_minor": 0
      },
      "text/plain": [
       "VBox(children=(Text(value='0', description='Número de vezes grávida:', placeholder='0'), Text(value='0', descr…"
      ]
     },
     "execution_count": 10,
     "metadata": {},
     "output_type": "execute_result"
    }
   ],
   "source": [
    "# Criando os campos de texto para os dados de entrada\n",
    "gravidez = widgets.Text(\n",
    "    value='0',\n",
    "    placeholder='0',\n",
    "    description='Número de vezes grávida:',\n",
    "    disabled=False\n",
    ")\n",
    "\n",
    "glicose = widgets.Text(\n",
    "    value='0',\n",
    "    placeholder='0',\n",
    "    description='Concentração de glicose no plasma:',\n",
    "    disabled=False\n",
    ")\n",
    "\n",
    "pressao = widgets.Text(\n",
    "    value='0',\n",
    "    placeholder='0',\n",
    "    description='Pressão arterial diastólica (mm Hg):',\n",
    "    disabled=False\n",
    ")\n",
    "\n",
    "pele = widgets.Text(\n",
    "    value='0',\n",
    "    placeholder='0',\n",
    "    description='Espessura da dobra da pele do tríceps (mm):',\n",
    "    disabled=False\n",
    ")\n",
    "\n",
    "insulina = widgets.Text(\n",
    "    value='0',\n",
    "    placeholder='0',\n",
    "    description='Insulina sérica de 2 horas (mu U/ml):',\n",
    "    disabled=False\n",
    ")\n",
    "\n",
    "imc = widgets.Text(\n",
    "    value='0',\n",
    "    placeholder='0.0',\n",
    "    description='Índice de massa corporal (kg/m^2):',\n",
    "    disabled=False\n",
    ")\n",
    "\n",
    "pedigree = widgets.Text(\n",
    "    value='0.0',\n",
    "    placeholder='0.0',\n",
    "    description='Função pedigree de diabetes:',\n",
    "    disabled=False\n",
    ")\n",
    "\n",
    "idade = widgets.Text(\n",
    "    value='0',\n",
    "    placeholder='0',\n",
    "    description='Idade (anos):',\n",
    "    disabled=False\n",
    ")\n",
    "\n",
    "# Criando um botão para enviar os dados e fazer a previsão\n",
    "botao_previsao = widgets.Button(\n",
    "    description='Fazer previsão',\n",
    "    disabled=False,\n",
    "    button_style='', # 'success', 'info', 'warning', 'danger' or ''\n",
    "    tooltip='Fazer previsão',\n",
    "    icon='check' # (FontAwesome names without the `fa-` prefix)\n",
    ")\n",
    "\n",
    "# Criando uma função para fazer a previsão e mostrar o resultado na tela quando o botão for clicado\n",
    "def on_button_clicked(b):\n",
    "    \n",
    "    # Criando um array com os dados de entrada do usuário\n",
    "    dados = [float(gravidez.value), float(glicose.value), float(pressao.value), float(pele.value), float(insulina.value), float(imc.value), float(pedigree.value), float(idade.value)]\n",
    "    \n",
    "    # Fazendo a previsão usando o modelo treinado\n",
    "    resultado = model.predict([dados])\n",
    "    \n",
    "    # Mostrando o resultado da previsão na tela\n",
    "    if resultado == 0:\n",
    "        print(\"Parabéns, você não está propensa a ter diabetes!\")\n",
    "    else:\n",
    "        print(\"Atenção, você está propensa a ter diabetes! Procure um médico para orientações.\")\n",
    "\n",
    "# Associando a função ao evento de clique do botão\n",
    "botao_previsao.on_click(on_button_clicked)\n",
    "\n",
    "# Mostrando os campos de texto e o botão na tela\n",
    "widgets.VBox([gravidez, glicose, pressao, pele, insulina, imc, pedigree, idade, botao_previsao])\n"
   ]
  },
  {
   "cell_type": "code",
   "execution_count": null,
   "metadata": {},
   "outputs": [],
   "source": [
    "# Inicia o streamlit em outra porta\n",
    "import os\n",
    "os.system(\"streamlit run app.py\")\n"
   ]
  }
 ],
 "metadata": {
  "kernelspec": {
   "display_name": "Python 3 (ipykernel)",
   "language": "python",
   "name": "python3"
  },
  "language_info": {
   "codemirror_mode": {
    "name": "ipython",
    "version": 3
   },
   "file_extension": ".py",
   "mimetype": "text/x-python",
   "name": "python",
   "nbconvert_exporter": "python",
   "pygments_lexer": "ipython3",
   "version": "3.9.13"
  },
  "widgets": {
   "application/vnd.jupyter.widget-state+json": {
    "state": {
     "0c3fbddd4d074ec49c542123f3f6952f": {
      "model_module": "@jupyter-widgets/controls",
      "model_module_version": "2.0.0",
      "model_name": "TextModel",
      "state": {
       "description": "Espessura da dobra da pele do tríceps (mm):",
       "layout": "IPY_MODEL_2e6ce3ee4ea54f0d929e01f491461b26",
       "placeholder": "0",
       "style": "IPY_MODEL_6c3b8f1a12c8404091c8638db48419e7",
       "value": "0"
      }
     },
     "1323ef090e6047b7b9cc294e180c1325": {
      "model_module": "@jupyter-widgets/base",
      "model_module_version": "2.0.0",
      "model_name": "LayoutModel",
      "state": {}
     },
     "2d7638d62b4f49ee92e9cf0b7d6ea55e": {
      "model_module": "@jupyter-widgets/base",
      "model_module_version": "2.0.0",
      "model_name": "LayoutModel",
      "state": {}
     },
     "2e6ce3ee4ea54f0d929e01f491461b26": {
      "model_module": "@jupyter-widgets/base",
      "model_module_version": "2.0.0",
      "model_name": "LayoutModel",
      "state": {}
     },
     "3d89ed9cf1b74c7fa6b332da4861c382": {
      "model_module": "@jupyter-widgets/controls",
      "model_module_version": "2.0.0",
      "model_name": "TextStyleModel",
      "state": {
       "description_width": "",
       "font_size": null,
       "text_color": null
      }
     },
     "4515806f3d554765bd0b5e58c3ae8d5e": {
      "model_module": "@jupyter-widgets/base",
      "model_module_version": "2.0.0",
      "model_name": "LayoutModel",
      "state": {}
     },
     "4df9b71c02414407a3e778796f1fa79a": {
      "model_module": "@jupyter-widgets/controls",
      "model_module_version": "2.0.0",
      "model_name": "TextStyleModel",
      "state": {
       "description_width": "",
       "font_size": null,
       "text_color": null
      }
     },
     "5655a35667074a36b3236d8a5d904410": {
      "model_module": "@jupyter-widgets/controls",
      "model_module_version": "2.0.0",
      "model_name": "TextModel",
      "state": {
       "description": "Função pedigree de diabetes:",
       "layout": "IPY_MODEL_4515806f3d554765bd0b5e58c3ae8d5e",
       "placeholder": "0.0",
       "style": "IPY_MODEL_f3b501f7124e48b3a55c2d66d2e48efd",
       "value": "0.0"
      }
     },
     "57aecdd859cd4106b87f6055bce7dcc7": {
      "model_module": "@jupyter-widgets/base",
      "model_module_version": "2.0.0",
      "model_name": "LayoutModel",
      "state": {}
     },
     "5a4e49c593f54a84a9a01550322a3214": {
      "model_module": "@jupyter-widgets/controls",
      "model_module_version": "2.0.0",
      "model_name": "TextModel",
      "state": {
       "description": "Índice de massa corporal (kg/m^2):",
       "layout": "IPY_MODEL_a8f54925536043f1ada34797311fa15a",
       "placeholder": "0.0",
       "style": "IPY_MODEL_b41078c53b83484ea9dcac6e6bbd6754",
       "value": "0"
      }
     },
     "5ae3ef74fe8a43bab148a2ad6fd13724": {
      "model_module": "@jupyter-widgets/controls",
      "model_module_version": "2.0.0",
      "model_name": "TextModel",
      "state": {
       "description": "Pressão arterial diastólica (mm Hg):",
       "layout": "IPY_MODEL_691186042496401b89b95d01647a7f9f",
       "placeholder": "0",
       "style": "IPY_MODEL_3d89ed9cf1b74c7fa6b332da4861c382",
       "value": "0"
      }
     },
     "629823f519e9430da2126eea163d5dea": {
      "model_module": "@jupyter-widgets/controls",
      "model_module_version": "2.0.0",
      "model_name": "ButtonModel",
      "state": {
       "description": "Fazer previsão",
       "icon": "check",
       "layout": "IPY_MODEL_57aecdd859cd4106b87f6055bce7dcc7",
       "style": "IPY_MODEL_d7abaca766bb4931b8259d3c27a9028c",
       "tooltip": "Fazer previsão"
      }
     },
     "691186042496401b89b95d01647a7f9f": {
      "model_module": "@jupyter-widgets/base",
      "model_module_version": "2.0.0",
      "model_name": "LayoutModel",
      "state": {}
     },
     "6b875b1684904a4e82151eb8878fcaca": {
      "model_module": "@jupyter-widgets/controls",
      "model_module_version": "2.0.0",
      "model_name": "TextStyleModel",
      "state": {
       "description_width": "",
       "font_size": null,
       "text_color": null
      }
     },
     "6c3b8f1a12c8404091c8638db48419e7": {
      "model_module": "@jupyter-widgets/controls",
      "model_module_version": "2.0.0",
      "model_name": "TextStyleModel",
      "state": {
       "description_width": "",
       "font_size": null,
       "text_color": null
      }
     },
     "85cb384e4a1b4d22b8fa106e2c6e4fdb": {
      "model_module": "@jupyter-widgets/controls",
      "model_module_version": "2.0.0",
      "model_name": "TextStyleModel",
      "state": {
       "description_width": "",
       "font_size": null,
       "text_color": null
      }
     },
     "87d5a44165d4426b9c127f7c0ef50bb5": {
      "model_module": "@jupyter-widgets/controls",
      "model_module_version": "2.0.0",
      "model_name": "ButtonStyleModel",
      "state": {
       "font_family": null,
       "font_size": null,
       "font_style": null,
       "font_variant": null,
       "font_weight": null,
       "text_color": null,
       "text_decoration": null
      }
     },
     "8b0d02f39a74449dbffa1330a9e3d0e2": {
      "model_module": "@jupyter-widgets/controls",
      "model_module_version": "2.0.0",
      "model_name": "TextModel",
      "state": {
       "description": "Concentração de glicose no plasma:",
       "layout": "IPY_MODEL_d171f45cd7524450b0ca0c95039bc23d",
       "placeholder": "0",
       "style": "IPY_MODEL_984df671f21e4e42b09c5475caed2f75",
       "value": "0"
      }
     },
     "8b91fc69371d468d886145f1570342eb": {
      "model_module": "@jupyter-widgets/base",
      "model_module_version": "2.0.0",
      "model_name": "LayoutModel",
      "state": {}
     },
     "93b01d31e5e541059c651eb5a352da9b": {
      "model_module": "@jupyter-widgets/base",
      "model_module_version": "2.0.0",
      "model_name": "LayoutModel",
      "state": {}
     },
     "94f619311d114fc1bd23e8a12b55e2c4": {
      "model_module": "@jupyter-widgets/controls",
      "model_module_version": "2.0.0",
      "model_name": "TextModel",
      "state": {
       "description": "Número de vezes grávida:",
       "layout": "IPY_MODEL_1323ef090e6047b7b9cc294e180c1325",
       "placeholder": "0",
       "style": "IPY_MODEL_85cb384e4a1b4d22b8fa106e2c6e4fdb",
       "value": "0"
      }
     },
     "984df671f21e4e42b09c5475caed2f75": {
      "model_module": "@jupyter-widgets/controls",
      "model_module_version": "2.0.0",
      "model_name": "TextStyleModel",
      "state": {
       "description_width": "",
       "font_size": null,
       "text_color": null
      }
     },
     "9a8eb6ab466443b08e485ad5d7ed7b35": {
      "model_module": "@jupyter-widgets/base",
      "model_module_version": "2.0.0",
      "model_name": "LayoutModel",
      "state": {}
     },
     "a8f54925536043f1ada34797311fa15a": {
      "model_module": "@jupyter-widgets/base",
      "model_module_version": "2.0.0",
      "model_name": "LayoutModel",
      "state": {}
     },
     "b41078c53b83484ea9dcac6e6bbd6754": {
      "model_module": "@jupyter-widgets/controls",
      "model_module_version": "2.0.0",
      "model_name": "TextStyleModel",
      "state": {
       "description_width": "",
       "font_size": null,
       "text_color": null
      }
     },
     "bf6a8004fbbd47d8a38d4bc876eceadc": {
      "model_module": "@jupyter-widgets/base",
      "model_module_version": "2.0.0",
      "model_name": "LayoutModel",
      "state": {}
     },
     "ca1c5e24a83b4e16835e7e87747eb00b": {
      "model_module": "@jupyter-widgets/controls",
      "model_module_version": "2.0.0",
      "model_name": "ButtonModel",
      "state": {
       "description": "Enviar",
       "icon": "check",
       "layout": "IPY_MODEL_2d7638d62b4f49ee92e9cf0b7d6ea55e",
       "style": "IPY_MODEL_87d5a44165d4426b9c127f7c0ef50bb5",
       "tooltip": "Enviar"
      }
     },
     "d171f45cd7524450b0ca0c95039bc23d": {
      "model_module": "@jupyter-widgets/base",
      "model_module_version": "2.0.0",
      "model_name": "LayoutModel",
      "state": {}
     },
     "d7abaca766bb4931b8259d3c27a9028c": {
      "model_module": "@jupyter-widgets/controls",
      "model_module_version": "2.0.0",
      "model_name": "ButtonStyleModel",
      "state": {
       "font_family": null,
       "font_size": null,
       "font_style": null,
       "font_variant": null,
       "font_weight": null,
       "text_color": null,
       "text_decoration": null
      }
     },
     "d80583e71e784ef78092a712e8a23c6e": {
      "model_module": "@jupyter-widgets/controls",
      "model_module_version": "2.0.0",
      "model_name": "TextStyleModel",
      "state": {
       "description_width": "",
       "font_size": null,
       "text_color": null
      }
     },
     "da6f502fdc0c4735a8763610633f773c": {
      "model_module": "@jupyter-widgets/controls",
      "model_module_version": "2.0.0",
      "model_name": "VBoxModel",
      "state": {
       "children": [
        "IPY_MODEL_f57005b7b10b43b4aeba35f8f7476f3c",
        "IPY_MODEL_ca1c5e24a83b4e16835e7e87747eb00b"
       ],
       "layout": "IPY_MODEL_9a8eb6ab466443b08e485ad5d7ed7b35"
      }
     },
     "ea9d4da939cc4fd2b31dcd4894a05aec": {
      "model_module": "@jupyter-widgets/controls",
      "model_module_version": "2.0.0",
      "model_name": "TextModel",
      "state": {
       "description": "Insulina sérica de 2 horas (mu U/ml):",
       "layout": "IPY_MODEL_8b91fc69371d468d886145f1570342eb",
       "placeholder": "0",
       "style": "IPY_MODEL_d80583e71e784ef78092a712e8a23c6e",
       "value": "0"
      }
     },
     "eef636b907894df39f324f8a1f56202c": {
      "model_module": "@jupyter-widgets/controls",
      "model_module_version": "2.0.0",
      "model_name": "VBoxModel",
      "state": {
       "children": [
        "IPY_MODEL_94f619311d114fc1bd23e8a12b55e2c4",
        "IPY_MODEL_8b0d02f39a74449dbffa1330a9e3d0e2",
        "IPY_MODEL_5ae3ef74fe8a43bab148a2ad6fd13724",
        "IPY_MODEL_0c3fbddd4d074ec49c542123f3f6952f",
        "IPY_MODEL_ea9d4da939cc4fd2b31dcd4894a05aec",
        "IPY_MODEL_5a4e49c593f54a84a9a01550322a3214",
        "IPY_MODEL_5655a35667074a36b3236d8a5d904410",
        "IPY_MODEL_fc59a1eac9fc4d37bf26808500bbb8c2",
        "IPY_MODEL_629823f519e9430da2126eea163d5dea"
       ],
       "layout": "IPY_MODEL_93b01d31e5e541059c651eb5a352da9b"
      }
     },
     "f3b501f7124e48b3a55c2d66d2e48efd": {
      "model_module": "@jupyter-widgets/controls",
      "model_module_version": "2.0.0",
      "model_name": "TextStyleModel",
      "state": {
       "description_width": "",
       "font_size": null,
       "text_color": null
      }
     },
     "f57005b7b10b43b4aeba35f8f7476f3c": {
      "model_module": "@jupyter-widgets/controls",
      "model_module_version": "2.0.0",
      "model_name": "TextModel",
      "state": {
       "description": "Digite seu nome:",
       "layout": "IPY_MODEL_fcb8f616c2424556a88e8f79a4e8beed",
       "placeholder": "Nome da paciente",
       "style": "IPY_MODEL_4df9b71c02414407a3e778796f1fa79a"
      }
     },
     "fc59a1eac9fc4d37bf26808500bbb8c2": {
      "model_module": "@jupyter-widgets/controls",
      "model_module_version": "2.0.0",
      "model_name": "TextModel",
      "state": {
       "description": "Idade (anos):",
       "layout": "IPY_MODEL_bf6a8004fbbd47d8a38d4bc876eceadc",
       "placeholder": "0",
       "style": "IPY_MODEL_6b875b1684904a4e82151eb8878fcaca",
       "value": "0"
      }
     },
     "fcb8f616c2424556a88e8f79a4e8beed": {
      "model_module": "@jupyter-widgets/base",
      "model_module_version": "2.0.0",
      "model_name": "LayoutModel",
      "state": {}
     }
    },
    "version_major": 2,
    "version_minor": 0
   }
  }
 },
 "nbformat": 4,
 "nbformat_minor": 4
}
