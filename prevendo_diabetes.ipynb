{
 "cells": [
  {
   "attachments": {},
   "cell_type": "markdown",
   "metadata": {},
   "source": [
    "Para este notebook rodar precisa intelar as libs:\n",
    "```Python\n",
    "pip install pandas==2.0.3\n",
    "pip install matplotlib==3.7.2\n",
    "pip install scikit-learn==1.3.0\n",
    "pip install imbalanced-learn==0.11.0\n",
    "pip install jupyterlab==4.0.3\n",
    "pip install ipywidgets==8.0.7\n",
    "\n",
    "```"
   ]
  },
  {
   "cell_type": "code",
   "execution_count": null,
   "metadata": {},
   "outputs": [],
   "source": [
    "# Importando as bibliotecas\n",
    "import pandas as pd\n",
    "import matplotlib.pyplot as plt\n",
    "from sklearn.model_selection import train_test_split\n",
    "from sklearn.linear_model import LogisticRegression\n",
    "from sklearn.metrics import accuracy_score, precision_score, recall_score, f1_score\n",
    "from imblearn.over_sampling import SMOTE\n",
    "import ipywidgets as widgets\n",
    "import os\n"
   ]
  },
  {
   "cell_type": "code",
   "execution_count": null,
   "metadata": {},
   "outputs": [],
   "source": [
    "# Pegando o caminho base e caminho do arquivo\n",
    "current_dir = os.getcwd()\n",
    "path_file = os.path.join(current_dir, r\"diabetes.csv\")\n",
    "\n",
    "# Lendo o arquivo csv com os dados\n",
    "dados = pd.read_csv(path_file)\n",
    "\n",
    "# dropando dados nulos se existentes\n",
    "dados.dropna(inplace=True)\n",
    "\n",
    "dados.head(1)"
   ]
  },
  {
   "cell_type": "code",
   "execution_count": null,
   "metadata": {},
   "outputs": [],
   "source": [
    "# Separando as variáveis independentes e dependentes\n",
    "X = dados.drop(\"Outcome\", axis=1)\n",
    "y = dados[\"Outcome\"]\n"
   ]
  },
  {
   "cell_type": "code",
   "execution_count": null,
   "metadata": {},
   "outputs": [],
   "source": [
    "# Fazendo a divisão dos dados em treino e teste\n",
    "X_train, X_test, y_train, y_test = train_test_split(X, y, test_size=0.2, random_state=42)\n"
   ]
  },
  {
   "cell_type": "code",
   "execution_count": null,
   "metadata": {},
   "outputs": [],
   "source": [
    "# Fazendo o balanceamento dos dados de treino\n",
    "sm = SMOTE(random_state=42, sampling_strategy={0: 1000, 1: 1000})\n",
    "X_train_res, y_train_res = sm.fit_resample(X_train, y_train)\n",
    "\n",
    "# Mostrando a distribuição das classes antes e depois do oversampling\n",
    "print(\"Distribuição das classes antes do oversampling:\")\n",
    "print(y_train.value_counts())\n",
    "print(\"Distribuição das classes depois do oversampling:\")\n",
    "print(y_train_res.value_counts())"
   ]
  },
  {
   "cell_type": "code",
   "execution_count": null,
   "metadata": {},
   "outputs": [],
   "source": [
    "# Treinando um modelo de regressão logística\n",
    "model = LogisticRegression(max_iter=1000)\n",
    "model.fit(X_train_res.values, y_train_res.values)\n"
   ]
  },
  {
   "cell_type": "code",
   "execution_count": null,
   "metadata": {},
   "outputs": [],
   "source": [
    "# Fazendo a previsão com os dados de teste\n",
    "y_pred = model.predict(X_test)\n",
    "\n",
    "# Calculando as métricas de avaliação do modelo\n",
    "acc = accuracy_score(y_test, y_pred)\n",
    "prec = precision_score(y_test, y_pred)\n",
    "rec = recall_score(y_test, y_pred)\n",
    "f1 = f1_score(y_test, y_pred)\n",
    "\n",
    "# Mostrando as métricas na tela\n",
    "print(f\"Acurácia: {acc:.2f}\")\n",
    "print(f\"Precisão: {prec:.2f}\")\n",
    "print(f\"Recall: {rec:.2f}\")\n",
    "print(f\"F1-score: {f1:.2f}\")\n"
   ]
  },
  {
   "cell_type": "code",
   "execution_count": null,
   "metadata": {},
   "outputs": [],
   "source": [
    "# Criando um gráfico de barras com as métricas do modelo\n",
    "fig, ax = plt.subplots()\n",
    "ax.bar([\"Acurácia\", \"Precisão\", \"Recall\", \"F1-score\"], [acc, prec, rec, f1])\n",
    "ax.set_ylim(0, 1)\n",
    "\n",
    "# Adicionando o percentual em cada extremidade das barras\n",
    "# Criando uma lista de strings com o formato \"xx%\"\n",
    "labels = [f\"{v*100:.0f}%\" for v in [acc, prec, rec, f1]] \n",
    "# Rotulando as barras com os valores\n",
    "ax.bar_label(ax.containers[0], labels=labels, label_type=\"edge\") \n",
    "\n",
    "plt.show()\n"
   ]
  },
  {
   "cell_type": "code",
   "execution_count": null,
   "metadata": {},
   "outputs": [],
   "source": [
    "# Importando o módulo de widgets\n",
    "import ipywidgets as widgets\n",
    "\n",
    "# Criando um campo de texto para o nome do usuário\n",
    "nome = widgets.Text(\n",
    "    value='',\n",
    "    placeholder='Nome da paciente',\n",
    "    description='Digite seu nome:',\n",
    "    disabled=False\n",
    ")\n",
    "\n",
    "# Criando um botão para enviar o nome\n",
    "botao_nome = widgets.Button(\n",
    "    description='Enviar',\n",
    "    disabled=False,\n",
    "    button_style='', # 'success', 'info', 'warning', 'danger' or ''\n",
    "    tooltip='Enviar',\n",
    "    icon='check' # (FontAwesome names without the `fa-` prefix)\n",
    ")\n",
    "\n",
    "# Criando uma função para mostrar o nome na tela quando o botão for clicado\n",
    "def on_button_clicked(b):\n",
    "    print(f\"Olá {nome.value}, seja bem-vindo(a) ao aplicativo de previsão de Diabetes!\")\n",
    "\n",
    "# Associando a função ao evento de clique do botão\n",
    "botao_nome.on_click(on_button_clicked)\n",
    "\n",
    "# Mostrando o campo de texto e o botão na tela\n",
    "widgets.VBox([nome, botao_nome])\n"
   ]
  },
  {
   "cell_type": "code",
   "execution_count": null,
   "metadata": {
    "scrolled": true
   },
   "outputs": [],
   "source": [
    "# Criando os campos de texto para os dados de entrada\n",
    "gravidez = widgets.Text(\n",
    "    value='0',\n",
    "    placeholder='0',\n",
    "    description='Número de vezes grávida:',\n",
    "    disabled=False\n",
    ")\n",
    "\n",
    "glicose = widgets.Text(\n",
    "    value='0',\n",
    "    placeholder='0',\n",
    "    description='Concentração de glicose no plasma:',\n",
    "    disabled=False\n",
    ")\n",
    "\n",
    "pressao = widgets.Text(\n",
    "    value='0',\n",
    "    placeholder='0',\n",
    "    description='Pressão arterial diastólica (mm Hg):',\n",
    "    disabled=False\n",
    ")\n",
    "\n",
    "pele = widgets.Text(\n",
    "    value='0',\n",
    "    placeholder='0',\n",
    "    description='Espessura da dobra da pele do tríceps (mm):',\n",
    "    disabled=False\n",
    ")\n",
    "\n",
    "insulina = widgets.Text(\n",
    "    value='0',\n",
    "    placeholder='0',\n",
    "    description='Insulina sérica de 2 horas (mu U/ml):',\n",
    "    disabled=False\n",
    ")\n",
    "\n",
    "imc = widgets.Text(\n",
    "    value='0',\n",
    "    placeholder='0.0',\n",
    "    description='Índice de massa corporal (kg/m^2):',\n",
    "    disabled=False\n",
    ")\n",
    "\n",
    "pedigree = widgets.Text(\n",
    "    value='0.0',\n",
    "    placeholder='0.0',\n",
    "    description='Função pedigree de diabetes:',\n",
    "    disabled=False\n",
    ")\n",
    "\n",
    "idade = widgets.Text(\n",
    "    value='0',\n",
    "    placeholder='0',\n",
    "    description='Idade (anos):',\n",
    "    disabled=False\n",
    ")\n",
    "\n",
    "# Criando um botão para enviar os dados e fazer a previsão\n",
    "botao_previsao = widgets.Button(\n",
    "    description='Fazer previsão',\n",
    "    disabled=False,\n",
    "    button_style='', # 'success', 'info', 'warning', 'danger' or ''\n",
    "    tooltip='Fazer previsão',\n",
    "    icon='check' # (FontAwesome names without the `fa-` prefix)\n",
    ")\n",
    "\n",
    "# Criando uma função para fazer a previsão e mostrar o resultado na tela quando o botão for clicado\n",
    "def on_button_clicked(b):\n",
    "    \n",
    "    # Criando um array com os dados de entrada do usuário\n",
    "    dados = [float(gravidez.value), float(glicose.value), float(pressao.value), float(pele.value), float(insulina.value), float(imc.value), float(pedigree.value), float(idade.value)]\n",
    "    \n",
    "    # Fazendo a previsão usando o modelo treinado\n",
    "    resultado = model.predict([dados])\n",
    "    \n",
    "    # Mostrando o resultado da previsão na tela\n",
    "    if resultado == 0:\n",
    "        print(\"Parabéns, você não está propensa a ter diabetes!\")\n",
    "    else:\n",
    "        print(\"Atenção, você está propensa a ter diabetes! Procure um médico para orientações.\")\n",
    "\n",
    "# Associando a função ao evento de clique do botão\n",
    "botao_previsao.on_click(on_button_clicked)\n",
    "\n",
    "# Mostrando os campos de texto e o botão na tela\n",
    "widgets.VBox([gravidez, glicose, pressao, pele, insulina, imc, pedigree, idade, botao_previsao])\n"
   ]
  },
  {
   "cell_type": "code",
   "execution_count": null,
   "metadata": {},
   "outputs": [],
   "source": [
    "# Inicia o streamlit em outra porta\n",
    "import os\n",
    "os.system(\"streamlit run app.py\")\n"
   ]
  }
 ],
 "metadata": {
  "kernelspec": {
   "display_name": "Python 3 (ipykernel)",
   "language": "python",
   "name": "python3"
  },
  "language_info": {
   "codemirror_mode": {
    "name": "ipython",
    "version": 3
   },
   "file_extension": ".py",
   "mimetype": "text/x-python",
   "name": "python",
   "nbconvert_exporter": "python",
   "pygments_lexer": "ipython3",
   "version": "3.9.13"
  },
  "widgets": {
   "application/vnd.jupyter.widget-state+json": {
    "state": {
     "02fd5b248d5d4171bce3c8682c6abc9c": {
      "model_module": "@jupyter-widgets/controls",
      "model_module_version": "2.0.0",
      "model_name": "TextStyleModel",
      "state": {
       "description_width": "",
       "font_size": null,
       "text_color": null
      }
     },
     "0433d88cb47f413f95e35d8508d27ce0": {
      "model_module": "@jupyter-widgets/controls",
      "model_module_version": "2.0.0",
      "model_name": "TextModel",
      "state": {
       "description": "Índice de massa corporal (kg/m^2):",
       "layout": "IPY_MODEL_07156d45e43344d7bbef6a6acd34cb3d",
       "placeholder": "0.0",
       "style": "IPY_MODEL_6af9dcbe81bd429b9a44e031216b3017",
       "value": "0"
      }
     },
     "06d18c3bffc2434ca0981527454b1041": {
      "model_module": "@jupyter-widgets/controls",
      "model_module_version": "2.0.0",
      "model_name": "ButtonModel",
      "state": {
       "description": "Enviar",
       "icon": "check",
       "layout": "IPY_MODEL_c4508291f06545f3973be311f073a853",
       "style": "IPY_MODEL_b13050242e2b4b4e9fa5130c73324e04",
       "tooltip": "Enviar"
      }
     },
     "07156d45e43344d7bbef6a6acd34cb3d": {
      "model_module": "@jupyter-widgets/base",
      "model_module_version": "2.0.0",
      "model_name": "LayoutModel",
      "state": {}
     },
     "16e56f25703a4a8b817246ac7ec6a5d9": {
      "model_module": "@jupyter-widgets/controls",
      "model_module_version": "2.0.0",
      "model_name": "TextModel",
      "state": {
       "description": "Pressão arterial diastólica (mm Hg):",
       "layout": "IPY_MODEL_e5e31f29933c44558711ee07d062c073",
       "placeholder": "0",
       "style": "IPY_MODEL_d6aa792dbcd24e2f94d8b5d7b99441b9",
       "value": "0"
      }
     },
     "275f9d4d7e424fa2bd24edbfc5cccda2": {
      "model_module": "@jupyter-widgets/controls",
      "model_module_version": "2.0.0",
      "model_name": "VBoxModel",
      "state": {
       "children": [
        "IPY_MODEL_bda328655eb148eaa43ce78eb2afe791",
        "IPY_MODEL_06d18c3bffc2434ca0981527454b1041"
       ],
       "layout": "IPY_MODEL_5e2872b0f97f4100a80d4df03b35fd3c"
      }
     },
     "34ebcfeeb1a34390a3a6a85b1eef07cb": {
      "model_module": "@jupyter-widgets/controls",
      "model_module_version": "2.0.0",
      "model_name": "TextStyleModel",
      "state": {
       "description_width": "",
       "font_size": null,
       "text_color": null
      }
     },
     "45f061640d7744bfb87e5989f3f7b908": {
      "model_module": "@jupyter-widgets/controls",
      "model_module_version": "2.0.0",
      "model_name": "TextModel",
      "state": {
       "description": "Insulina sérica de 2 horas (mu U/ml):",
       "layout": "IPY_MODEL_aae11947fada41ed94bbc0e1a18e1683",
       "placeholder": "0",
       "style": "IPY_MODEL_cec285e4f86d4a25b0809efe9b89e1ce",
       "value": "0"
      }
     },
     "49cc0f3426b14072a938904a7dfad5a5": {
      "model_module": "@jupyter-widgets/controls",
      "model_module_version": "2.0.0",
      "model_name": "TextStyleModel",
      "state": {
       "description_width": "",
       "font_size": null,
       "text_color": null
      }
     },
     "5e2872b0f97f4100a80d4df03b35fd3c": {
      "model_module": "@jupyter-widgets/base",
      "model_module_version": "2.0.0",
      "model_name": "LayoutModel",
      "state": {}
     },
     "6af9dcbe81bd429b9a44e031216b3017": {
      "model_module": "@jupyter-widgets/controls",
      "model_module_version": "2.0.0",
      "model_name": "TextStyleModel",
      "state": {
       "description_width": "",
       "font_size": null,
       "text_color": null
      }
     },
     "774976d1fcf94a299a099532d869fb1b": {
      "model_module": "@jupyter-widgets/controls",
      "model_module_version": "2.0.0",
      "model_name": "TextModel",
      "state": {
       "description": "Idade (anos):",
       "layout": "IPY_MODEL_ca8ad6f9f02e4ec99a09b6073a3b151a",
       "placeholder": "0",
       "style": "IPY_MODEL_f5c7d6cd85824a57bb2814e744a421a8",
       "value": "0"
      }
     },
     "7eb33cc8e1684baebad4899a10f31ccd": {
      "model_module": "@jupyter-widgets/controls",
      "model_module_version": "2.0.0",
      "model_name": "VBoxModel",
      "state": {
       "children": [
        "IPY_MODEL_d8cb8ba71d3745449179ad90d7024e0f",
        "IPY_MODEL_d0a6aa58bb334accad27f95106585586",
        "IPY_MODEL_16e56f25703a4a8b817246ac7ec6a5d9",
        "IPY_MODEL_9b71e214103640faa91049179a74cd7e",
        "IPY_MODEL_45f061640d7744bfb87e5989f3f7b908",
        "IPY_MODEL_0433d88cb47f413f95e35d8508d27ce0",
        "IPY_MODEL_c42fe709ce114e3fa1251968d87b681e",
        "IPY_MODEL_774976d1fcf94a299a099532d869fb1b",
        "IPY_MODEL_df67ca83c67a49faad326d4889c7d3ab"
       ],
       "layout": "IPY_MODEL_cf7a2d9c458c4c5e9fb75708f3a02a4e"
      }
     },
     "802f763093bf4cd6a34784feb0274dfa": {
      "model_module": "@jupyter-widgets/base",
      "model_module_version": "2.0.0",
      "model_name": "LayoutModel",
      "state": {}
     },
     "987ee0198fb34c1a8d94ac1d5a24a5bc": {
      "model_module": "@jupyter-widgets/controls",
      "model_module_version": "2.0.0",
      "model_name": "TextStyleModel",
      "state": {
       "description_width": "",
       "font_size": null,
       "text_color": null
      }
     },
     "9b71e214103640faa91049179a74cd7e": {
      "model_module": "@jupyter-widgets/controls",
      "model_module_version": "2.0.0",
      "model_name": "TextModel",
      "state": {
       "description": "Espessura da dobra da pele do tríceps (mm):",
       "layout": "IPY_MODEL_f62584e8b9bb4843a65175926323851b",
       "placeholder": "0",
       "style": "IPY_MODEL_34ebcfeeb1a34390a3a6a85b1eef07cb",
       "value": "0"
      }
     },
     "a0b4559a301b41e99af3ffdf6128ddd9": {
      "model_module": "@jupyter-widgets/controls",
      "model_module_version": "2.0.0",
      "model_name": "ButtonStyleModel",
      "state": {
       "font_family": null,
       "font_size": null,
       "font_style": null,
       "font_variant": null,
       "font_weight": null,
       "text_color": null,
       "text_decoration": null
      }
     },
     "aae11947fada41ed94bbc0e1a18e1683": {
      "model_module": "@jupyter-widgets/base",
      "model_module_version": "2.0.0",
      "model_name": "LayoutModel",
      "state": {}
     },
     "acd40332383d4e10bd35fa692ff3b26c": {
      "model_module": "@jupyter-widgets/controls",
      "model_module_version": "2.0.0",
      "model_name": "TextStyleModel",
      "state": {
       "description_width": "",
       "font_size": null,
       "text_color": null
      }
     },
     "b13050242e2b4b4e9fa5130c73324e04": {
      "model_module": "@jupyter-widgets/controls",
      "model_module_version": "2.0.0",
      "model_name": "ButtonStyleModel",
      "state": {
       "font_family": null,
       "font_size": null,
       "font_style": null,
       "font_variant": null,
       "font_weight": null,
       "text_color": null,
       "text_decoration": null
      }
     },
     "b342a29bda914381812cfe0054eb6818": {
      "model_module": "@jupyter-widgets/base",
      "model_module_version": "2.0.0",
      "model_name": "LayoutModel",
      "state": {}
     },
     "bda328655eb148eaa43ce78eb2afe791": {
      "model_module": "@jupyter-widgets/controls",
      "model_module_version": "2.0.0",
      "model_name": "TextModel",
      "state": {
       "description": "Digite seu nome:",
       "layout": "IPY_MODEL_802f763093bf4cd6a34784feb0274dfa",
       "placeholder": "Nome da paciente",
       "style": "IPY_MODEL_987ee0198fb34c1a8d94ac1d5a24a5bc",
       "value": "Gustavo"
      }
     },
     "c2b96d01bef042279a87d8b70fa64422": {
      "model_module": "@jupyter-widgets/base",
      "model_module_version": "2.0.0",
      "model_name": "LayoutModel",
      "state": {}
     },
     "c42fe709ce114e3fa1251968d87b681e": {
      "model_module": "@jupyter-widgets/controls",
      "model_module_version": "2.0.0",
      "model_name": "TextModel",
      "state": {
       "description": "Função pedigree de diabetes:",
       "layout": "IPY_MODEL_b342a29bda914381812cfe0054eb6818",
       "placeholder": "0.0",
       "style": "IPY_MODEL_acd40332383d4e10bd35fa692ff3b26c",
       "value": "0.0"
      }
     },
     "c4508291f06545f3973be311f073a853": {
      "model_module": "@jupyter-widgets/base",
      "model_module_version": "2.0.0",
      "model_name": "LayoutModel",
      "state": {}
     },
     "ca8ad6f9f02e4ec99a09b6073a3b151a": {
      "model_module": "@jupyter-widgets/base",
      "model_module_version": "2.0.0",
      "model_name": "LayoutModel",
      "state": {}
     },
     "cec285e4f86d4a25b0809efe9b89e1ce": {
      "model_module": "@jupyter-widgets/controls",
      "model_module_version": "2.0.0",
      "model_name": "TextStyleModel",
      "state": {
       "description_width": "",
       "font_size": null,
       "text_color": null
      }
     },
     "cf7a2d9c458c4c5e9fb75708f3a02a4e": {
      "model_module": "@jupyter-widgets/base",
      "model_module_version": "2.0.0",
      "model_name": "LayoutModel",
      "state": {}
     },
     "d0a6aa58bb334accad27f95106585586": {
      "model_module": "@jupyter-widgets/controls",
      "model_module_version": "2.0.0",
      "model_name": "TextModel",
      "state": {
       "description": "Concentração de glicose no plasma:",
       "layout": "IPY_MODEL_c2b96d01bef042279a87d8b70fa64422",
       "placeholder": "0",
       "style": "IPY_MODEL_49cc0f3426b14072a938904a7dfad5a5",
       "value": "0"
      }
     },
     "d6aa792dbcd24e2f94d8b5d7b99441b9": {
      "model_module": "@jupyter-widgets/controls",
      "model_module_version": "2.0.0",
      "model_name": "TextStyleModel",
      "state": {
       "description_width": "",
       "font_size": null,
       "text_color": null
      }
     },
     "d8cb8ba71d3745449179ad90d7024e0f": {
      "model_module": "@jupyter-widgets/controls",
      "model_module_version": "2.0.0",
      "model_name": "TextModel",
      "state": {
       "description": "Número de vezes grávida:",
       "layout": "IPY_MODEL_f8dc5067b80b438692c1887e06ae9d95",
       "placeholder": "0",
       "style": "IPY_MODEL_02fd5b248d5d4171bce3c8682c6abc9c",
       "value": "0"
      }
     },
     "df67ca83c67a49faad326d4889c7d3ab": {
      "model_module": "@jupyter-widgets/controls",
      "model_module_version": "2.0.0",
      "model_name": "ButtonModel",
      "state": {
       "description": "Fazer previsão",
       "icon": "check",
       "layout": "IPY_MODEL_e042e2960bd5439e840e895c07264153",
       "style": "IPY_MODEL_a0b4559a301b41e99af3ffdf6128ddd9",
       "tooltip": "Fazer previsão"
      }
     },
     "e042e2960bd5439e840e895c07264153": {
      "model_module": "@jupyter-widgets/base",
      "model_module_version": "2.0.0",
      "model_name": "LayoutModel",
      "state": {}
     },
     "e5e31f29933c44558711ee07d062c073": {
      "model_module": "@jupyter-widgets/base",
      "model_module_version": "2.0.0",
      "model_name": "LayoutModel",
      "state": {}
     },
     "f5c7d6cd85824a57bb2814e744a421a8": {
      "model_module": "@jupyter-widgets/controls",
      "model_module_version": "2.0.0",
      "model_name": "TextStyleModel",
      "state": {
       "description_width": "",
       "font_size": null,
       "text_color": null
      }
     },
     "f62584e8b9bb4843a65175926323851b": {
      "model_module": "@jupyter-widgets/base",
      "model_module_version": "2.0.0",
      "model_name": "LayoutModel",
      "state": {}
     },
     "f8dc5067b80b438692c1887e06ae9d95": {
      "model_module": "@jupyter-widgets/base",
      "model_module_version": "2.0.0",
      "model_name": "LayoutModel",
      "state": {}
     }
    },
    "version_major": 2,
    "version_minor": 0
   }
  }
 },
 "nbformat": 4,
 "nbformat_minor": 4
}
